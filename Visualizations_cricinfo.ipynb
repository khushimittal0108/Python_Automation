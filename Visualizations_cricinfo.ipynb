{
  "nbformat": 4,
  "nbformat_minor": 0,
  "metadata": {
    "colab": {
      "name": "Visualizations_cricinfo.ipynb",
      "provenance": [],
      "collapsed_sections": [],
      "authorship_tag": "ABX9TyPEBHmbHxiXsnCVD06/o1VQ",
      "include_colab_link": true
    },
    "kernelspec": {
      "name": "python3",
      "display_name": "Python 3"
    }
  },
  "cells": [
    {
      "cell_type": "markdown",
      "metadata": {
        "id": "view-in-github",
        "colab_type": "text"
      },
      "source": [
        "<a href=\"https://colab.research.google.com/github/khushimittal0108/Python_Automation/blob/master/Visualizations_cricinfo.ipynb\" target=\"_parent\"><img src=\"https://colab.research.google.com/assets/colab-badge.svg\" alt=\"Open In Colab\"/></a>"
      ]
    },
    {
      "cell_type": "code",
      "metadata": {
        "id": "wFhzkpNW3wW0",
        "colab_type": "code",
        "colab": {
          "base_uri": "https://localhost:8080/",
          "height": 70
        },
        "outputId": "63c04e39-3b72-482b-f126-fdd1432b8196"
      },
      "source": [
        "import pandas as pd\n",
        "import seaborn as sns"
      ],
      "execution_count": 1,
      "outputs": [
        {
          "output_type": "stream",
          "text": [
            "/usr/local/lib/python3.6/dist-packages/statsmodels/tools/_testing.py:19: FutureWarning: pandas.util.testing is deprecated. Use the functions in the public API at pandas.testing instead.\n",
            "  import pandas.util.testing as tm\n"
          ],
          "name": "stderr"
        }
      ]
    },
    {
      "cell_type": "code",
      "metadata": {
        "id": "6n_F44Pa4GHi",
        "colab_type": "code",
        "colab": {}
      },
      "source": [
        "odi=pd.read_csv('/content/ICC ODI Championship.csv')"
      ],
      "execution_count": 2,
      "outputs": []
    },
    {
      "cell_type": "code",
      "metadata": {
        "id": "0o-iqHdT446x",
        "colab_type": "code",
        "colab": {
          "base_uri": "https://localhost:8080/",
          "height": 195
        },
        "outputId": "b7168aae-0c8b-44cf-9865-0973eb8e736e"
      },
      "source": [
        "odi.head()"
      ],
      "execution_count": 3,
      "outputs": [
        {
          "output_type": "execute_result",
          "data": {
            "text/html": [
              "<div>\n",
              "<style scoped>\n",
              "    .dataframe tbody tr th:only-of-type {\n",
              "        vertical-align: middle;\n",
              "    }\n",
              "\n",
              "    .dataframe tbody tr th {\n",
              "        vertical-align: top;\n",
              "    }\n",
              "\n",
              "    .dataframe thead th {\n",
              "        text-align: right;\n",
              "    }\n",
              "</style>\n",
              "<table border=\"1\" class=\"dataframe\">\n",
              "  <thead>\n",
              "    <tr style=\"text-align: right;\">\n",
              "      <th></th>\n",
              "      <th>pos</th>\n",
              "      <th>team</th>\n",
              "      <th>matches</th>\n",
              "      <th>points</th>\n",
              "      <th>rating</th>\n",
              "    </tr>\n",
              "  </thead>\n",
              "  <tbody>\n",
              "    <tr>\n",
              "      <th>0</th>\n",
              "      <td>1</td>\n",
              "      <td>England</td>\n",
              "      <td>41</td>\n",
              "      <td>5131</td>\n",
              "      <td>125</td>\n",
              "    </tr>\n",
              "    <tr>\n",
              "      <th>1</th>\n",
              "      <td>2</td>\n",
              "      <td>India</td>\n",
              "      <td>49</td>\n",
              "      <td>5819</td>\n",
              "      <td>119</td>\n",
              "    </tr>\n",
              "    <tr>\n",
              "      <th>2</th>\n",
              "      <td>3</td>\n",
              "      <td>New Zealand</td>\n",
              "      <td>32</td>\n",
              "      <td>3716</td>\n",
              "      <td>116</td>\n",
              "    </tr>\n",
              "    <tr>\n",
              "      <th>3</th>\n",
              "      <td>4</td>\n",
              "      <td>South Africa</td>\n",
              "      <td>31</td>\n",
              "      <td>3345</td>\n",
              "      <td>108</td>\n",
              "    </tr>\n",
              "    <tr>\n",
              "      <th>4</th>\n",
              "      <td>5</td>\n",
              "      <td>Australia</td>\n",
              "      <td>33</td>\n",
              "      <td>3518</td>\n",
              "      <td>107</td>\n",
              "    </tr>\n",
              "  </tbody>\n",
              "</table>\n",
              "</div>"
            ],
            "text/plain": [
              "   pos          team  matches  points  rating\n",
              "0    1       England       41    5131     125\n",
              "1    2         India       49    5819     119\n",
              "2    3   New Zealand       32    3716     116\n",
              "3    4  South Africa       31    3345     108\n",
              "4    5     Australia       33    3518     107"
            ]
          },
          "metadata": {
            "tags": []
          },
          "execution_count": 3
        }
      ]
    },
    {
      "cell_type": "code",
      "metadata": {
        "id": "e-bygtSl6i-6",
        "colab_type": "code",
        "colab": {}
      },
      "source": [
        "import matplotlib.pyplot as plt\n"
      ],
      "execution_count": 5,
      "outputs": []
    },
    {
      "cell_type": "code",
      "metadata": {
        "id": "O9hOdjg846d1",
        "colab_type": "code",
        "colab": {
          "base_uri": "https://localhost:8080/",
          "height": 290
        },
        "outputId": "f4dc6784-91c3-4ee8-e0dd-864dd4b5be26"
      },
      "source": [
        "plt.figure(figsize=(16,4))\n",
        "x=sns.barplot('team','points',data=odi)\n",
        "x.set_xticklabels(x.get_xticklabels(),rotation=40,ha='right')\n",
        "plt.tight_layout()\n",
        "plt.show()\n"
      ],
      "execution_count": 10,
      "outputs": [
        {
          "output_type": "display_data",
          "data": {
            "image/png": "[encoded data removed]",
            "text/plain": [
              "<Figure size 1152x288 with 1 Axes>"
            ]
          },
          "metadata": {
            "tags": [],
            "needs_background": "light"
          }
        }
      ]
    },
    {
      "cell_type": "code",
      "metadata": {
        "id": "fKKFORCT5WLx",
        "colab_type": "code",
        "colab": {}
      },
      "source": [
        "#alternate method\n",
        "import matplotlib as mpb\n",
        "mpb.rcParams['font.size']=20"
      ],
      "execution_count": 17,
      "outputs": []
    },
    {
      "cell_type": "code",
      "metadata": {
        "id": "5B24UYw-9E7R",
        "colab_type": "code",
        "colab": {
          "base_uri": "https://localhost:8080/",
          "height": 195
        },
        "outputId": "1b347a2e-2aab-4d62-8eed-52c8d324688e"
      },
      "source": [
        "def trim(x):\n",
        "  return x[:3]\n",
        "odi['Abr']=odi['team'].apply(trim)\n",
        "odi.head()"
      ],
      "execution_count": 18,
      "outputs": [
        {
          "output_type": "execute_result",
          "data": {
            "text/html": [
              "<div>\n",
              "<style scoped>\n",
              "    .dataframe tbody tr th:only-of-type {\n",
              "        vertical-align: middle;\n",
              "    }\n",
              "\n",
              "    .dataframe tbody tr th {\n",
              "        vertical-align: top;\n",
              "    }\n",
              "\n",
              "    .dataframe thead th {\n",
              "        text-align: right;\n",
              "    }\n",
              "</style>\n",
              "<table border=\"1\" class=\"dataframe\">\n",
              "  <thead>\n",
              "    <tr style=\"text-align: right;\">\n",
              "      <th></th>\n",
              "      <th>pos</th>\n",
              "      <th>team</th>\n",
              "      <th>matches</th>\n",
              "      <th>points</th>\n",
              "      <th>rating</th>\n",
              "      <th>Abr</th>\n",
              "    </tr>\n",
              "  </thead>\n",
              "  <tbody>\n",
              "    <tr>\n",
              "      <th>0</th>\n",
              "      <td>1</td>\n",
              "      <td>England</td>\n",
              "      <td>41</td>\n",
              "      <td>5131</td>\n",
              "      <td>125</td>\n",
              "      <td>Eng</td>\n",
              "    </tr>\n",
              "    <tr>\n",
              "      <th>1</th>\n",
              "      <td>2</td>\n",
              "      <td>India</td>\n",
              "      <td>49</td>\n",
              "      <td>5819</td>\n",
              "      <td>119</td>\n",
              "      <td>Ind</td>\n",
              "    </tr>\n",
              "    <tr>\n",
              "      <th>2</th>\n",
              "      <td>3</td>\n",
              "      <td>New Zealand</td>\n",
              "      <td>32</td>\n",
              "      <td>3716</td>\n",
              "      <td>116</td>\n",
              "      <td>New</td>\n",
              "    </tr>\n",
              "    <tr>\n",
              "      <th>3</th>\n",
              "      <td>4</td>\n",
              "      <td>South Africa</td>\n",
              "      <td>31</td>\n",
              "      <td>3345</td>\n",
              "      <td>108</td>\n",
              "      <td>Sou</td>\n",
              "    </tr>\n",
              "    <tr>\n",
              "      <th>4</th>\n",
              "      <td>5</td>\n",
              "      <td>Australia</td>\n",
              "      <td>33</td>\n",
              "      <td>3518</td>\n",
              "      <td>107</td>\n",
              "      <td>Aus</td>\n",
              "    </tr>\n",
              "  </tbody>\n",
              "</table>\n",
              "</div>"
            ],
            "text/plain": [
              "   pos          team  matches  points  rating  Abr\n",
              "0    1       England       41    5131     125  Eng\n",
              "1    2         India       49    5819     119  Ind\n",
              "2    3   New Zealand       32    3716     116  New\n",
              "3    4  South Africa       31    3345     108  Sou\n",
              "4    5     Australia       33    3518     107  Aus"
            ]
          },
          "metadata": {
            "tags": []
          },
          "execution_count": 18
        }
      ]
    },
    {
      "cell_type": "code",
      "metadata": {
        "id": "Nc5CMYKm8hlW",
        "colab_type": "code",
        "colab": {
          "base_uri": "https://localhost:8080/",
          "height": 575
        },
        "outputId": "3b6b20ff-8937-4a33-e0ff-8904b229c0bb"
      },
      "source": [
        "f,ax=plt.subplots(figsize=(20,10))\n",
        "ax=sns.barplot('Abr','points',data=odi)"
      ],
      "execution_count": 19,
      "outputs": [
        {
          "output_type": "display_data",
          "data": {
            "image/png": "[encoded data removed]",
            "text/plain": [
              "<Figure size 1440x720 with 1 Axes>"
            ]
          },
          "metadata": {
            "tags": [],
            "needs_background": "light"
          }
        }
      ]
    },
    {
      "cell_type": "code",
      "metadata": {
        "id": "bxWXMort89Dk",
        "colab_type": "code",
        "colab": {
          "base_uri": "https://localhost:8080/",
          "height": 290
        },
        "outputId": "9af61bc3-4342-4d7a-f6f8-04eebfc2f642"
      },
      "source": [
        "mpb.rcParams['font.size']=10\n",
        "plt.figure(figsize=(16,4))\n",
        "x=sns.barplot('team','rating',data=odi)\n",
        "x.set_xticklabels(x.get_xticklabels(),rotation=40,ha='right')\n",
        "plt.tight_layout()\n",
        "plt.show()\n"
      ],
      "execution_count": 23,
      "outputs": [
        {
          "output_type": "display_data",
          "data": {
            "image/png": "[encoded data removed]",
            "text/plain": [
              "<Figure size 1152x288 with 1 Axes>"
            ]
          },
          "metadata": {
            "tags": [],
            "needs_background": "light"
          }
        }
      ]
    },
    {
      "cell_type": "code",
      "metadata": {
        "id": "_WIbXqxN-B5A",
        "colab_type": "code",
        "colab": {
          "base_uri": "https://localhost:8080/",
          "height": 290
        },
        "outputId": "7be3af0b-9ca0-487c-e3e4-13daa3fd4133"
      },
      "source": [
        "#Horizontal\n",
        "plt.figure(figsize=(16,4))\n",
        "x=sns.barplot('rating','team',data=odi)\n",
        "plt.tight_layout()\n",
        "plt.show()"
      ],
      "execution_count": 30,
      "outputs": [
        {
          "output_type": "display_data",
          "data": {
            "image/png": "[encoded data removed]",
            "text/plain": [
              "<Figure size 1152x288 with 1 Axes>"
            ]
          },
          "metadata": {
            "tags": [],
            "needs_background": "light"
          }
        }
      ]
    },
    {
      "cell_type": "code",
      "metadata": {
        "id": "6ao8C8hs-exb",
        "colab_type": "code",
        "colab": {}
      },
      "source": [
        "wodi=pd.read_csv(\"/content/ICC Women's ODI Team Rankings.csv\")"
      ],
      "execution_count": 31,
      "outputs": []
    },
    {
      "cell_type": "code",
      "metadata": {
        "id": "fpmXIUW1-tzV",
        "colab_type": "code",
        "colab": {
          "base_uri": "https://localhost:8080/",
          "height": 195
        },
        "outputId": "a908014b-acb3-43cf-c45a-50f08b4ffc29"
      },
      "source": [
        "wodi.head()"
      ],
      "execution_count": 32,
      "outputs": [
        {
          "output_type": "execute_result",
          "data": {
            "text/html": [
              "<div>\n",
              "<style scoped>\n",
              "    .dataframe tbody tr th:only-of-type {\n",
              "        vertical-align: middle;\n",
              "    }\n",
              "\n",
              "    .dataframe tbody tr th {\n",
              "        vertical-align: top;\n",
              "    }\n",
              "\n",
              "    .dataframe thead th {\n",
              "        text-align: right;\n",
              "    }\n",
              "</style>\n",
              "<table border=\"1\" class=\"dataframe\">\n",
              "  <thead>\n",
              "    <tr style=\"text-align: right;\">\n",
              "      <th></th>\n",
              "      <th>pos</th>\n",
              "      <th>team</th>\n",
              "      <th>matches</th>\n",
              "      <th>points</th>\n",
              "      <th>rating</th>\n",
              "    </tr>\n",
              "  </thead>\n",
              "  <tbody>\n",
              "    <tr>\n",
              "      <th>0</th>\n",
              "      <td>1</td>\n",
              "      <td>Australia Women</td>\n",
              "      <td>26</td>\n",
              "      <td>3945</td>\n",
              "      <td>152</td>\n",
              "    </tr>\n",
              "    <tr>\n",
              "      <th>1</th>\n",
              "      <td>2</td>\n",
              "      <td>India Women</td>\n",
              "      <td>30</td>\n",
              "      <td>3747</td>\n",
              "      <td>125</td>\n",
              "    </tr>\n",
              "    <tr>\n",
              "      <th>2</th>\n",
              "      <td>3</td>\n",
              "      <td>England Women</td>\n",
              "      <td>29</td>\n",
              "      <td>3568</td>\n",
              "      <td>123</td>\n",
              "    </tr>\n",
              "    <tr>\n",
              "      <th>3</th>\n",
              "      <td>4</td>\n",
              "      <td>New Zealand Women</td>\n",
              "      <td>26</td>\n",
              "      <td>2675</td>\n",
              "      <td>103</td>\n",
              "    </tr>\n",
              "    <tr>\n",
              "      <th>4</th>\n",
              "      <td>5</td>\n",
              "      <td>South Africa Women</td>\n",
              "      <td>36</td>\n",
              "      <td>3626</td>\n",
              "      <td>101</td>\n",
              "    </tr>\n",
              "  </tbody>\n",
              "</table>\n",
              "</div>"
            ],
            "text/plain": [
              "   pos                team  matches  points  rating\n",
              "0    1     Australia Women       26    3945     152\n",
              "1    2         India Women       30    3747     125\n",
              "2    3       England Women       29    3568     123\n",
              "3    4   New Zealand Women       26    2675     103\n",
              "4    5  South Africa Women       36    3626     101"
            ]
          },
          "metadata": {
            "tags": []
          },
          "execution_count": 32
        }
      ]
    },
    {
      "cell_type": "code",
      "metadata": {
        "id": "19N9_F_--8nF",
        "colab_type": "code",
        "colab": {
          "base_uri": "https://localhost:8080/",
          "height": 290
        },
        "outputId": "19684a69-5e8b-46e8-c5da-f896807b01f7"
      },
      "source": [
        "plt.figure(figsize=(16,4))\n",
        "x=sns.barplot('rating','team',data=wodi)\n",
        "plt.tight_layout()\n",
        "plt.show()"
      ],
      "execution_count": 33,
      "outputs": [
        {
          "output_type": "display_data",
          "data": {
            "image/png": "[encoded data removed]",
            "text/plain": [
              "<Figure size 1152x288 with 1 Axes>"
            ]
          },
          "metadata": {
            "tags": [],
            "needs_background": "light"
          }
        }
      ]
    },
    {
      "cell_type": "code",
      "metadata": {
        "id": "8b_jDBX6_C51",
        "colab_type": "code",
        "colab": {
          "base_uri": "https://localhost:8080/",
          "height": 290
        },
        "outputId": "5c13b9b2-3200-4611-d7e6-261d5ec42292"
      },
      "source": [
        "plt.figure(figsize=(16,4))\n",
        "x=sns.barplot('matches','team',data=odi)\n",
        "plt.tight_layout()\n",
        "plt.show()"
      ],
      "execution_count": 34,
      "outputs": [
        {
          "output_type": "display_data",
          "data": {
            "image/png": "[encoded data removed]",
            "text/plain": [
              "<Figure size 1152x288 with 1 Axes>"
            ]
          },
          "metadata": {
            "tags": [],
            "needs_background": "light"
          }
        }
      ]
    },
    {
      "cell_type": "code",
      "metadata": {
        "id": "HLKBBfsz_nJk",
        "colab_type": "code",
        "colab": {
          "base_uri": "https://localhost:8080/",
          "height": 290
        },
        "outputId": "aa3d5a2a-2993-410e-e969-3eb4038dce9a"
      },
      "source": [
        "plt.figure(figsize=(16,4))\n",
        "x=sns.barplot('matches','team',data=wodi)\n",
        "plt.tight_layout()\n",
        "plt.show()"
      ],
      "execution_count": 35,
      "outputs": [
        {
          "output_type": "display_data",
          "data": {
            "image/png": "[encoded data removed]",
            "text/plain": [
              "<Figure size 1152x288 with 1 Axes>"
            ]
          },
          "metadata": {
            "tags": [],
            "needs_background": "light"
          }
        }
      ]
    },
    {
      "cell_type": "code",
      "metadata": {
        "id": "ib7QKHwn_sTO",
        "colab_type": "code",
        "colab": {
          "base_uri": "https://localhost:8080/",
          "height": 195
        },
        "outputId": "05f35616-6255-42e2-f58b-57c53e85a6d9"
      },
      "source": [
        "odi.head()"
      ],
      "execution_count": 36,
      "outputs": [
        {
          "output_type": "execute_result",
          "data": {
            "text/html": [
              "<div>\n",
              "<style scoped>\n",
              "    .dataframe tbody tr th:only-of-type {\n",
              "        vertical-align: middle;\n",
              "    }\n",
              "\n",
              "    .dataframe tbody tr th {\n",
              "        vertical-align: top;\n",
              "    }\n",
              "\n",
              "    .dataframe thead th {\n",
              "        text-align: right;\n",
              "    }\n",
              "</style>\n",
              "<table border=\"1\" class=\"dataframe\">\n",
              "  <thead>\n",
              "    <tr style=\"text-align: right;\">\n",
              "      <th></th>\n",
              "      <th>pos</th>\n",
              "      <th>team</th>\n",
              "      <th>matches</th>\n",
              "      <th>points</th>\n",
              "      <th>rating</th>\n",
              "      <th>Abr</th>\n",
              "    </tr>\n",
              "  </thead>\n",
              "  <tbody>\n",
              "    <tr>\n",
              "      <th>0</th>\n",
              "      <td>1</td>\n",
              "      <td>England</td>\n",
              "      <td>41</td>\n",
              "      <td>5131</td>\n",
              "      <td>125</td>\n",
              "      <td>Eng</td>\n",
              "    </tr>\n",
              "    <tr>\n",
              "      <th>1</th>\n",
              "      <td>2</td>\n",
              "      <td>India</td>\n",
              "      <td>49</td>\n",
              "      <td>5819</td>\n",
              "      <td>119</td>\n",
              "      <td>Ind</td>\n",
              "    </tr>\n",
              "    <tr>\n",
              "      <th>2</th>\n",
              "      <td>3</td>\n",
              "      <td>New Zealand</td>\n",
              "      <td>32</td>\n",
              "      <td>3716</td>\n",
              "      <td>116</td>\n",
              "      <td>New</td>\n",
              "    </tr>\n",
              "    <tr>\n",
              "      <th>3</th>\n",
              "      <td>4</td>\n",
              "      <td>South Africa</td>\n",
              "      <td>31</td>\n",
              "      <td>3345</td>\n",
              "      <td>108</td>\n",
              "      <td>Sou</td>\n",
              "    </tr>\n",
              "    <tr>\n",
              "      <th>4</th>\n",
              "      <td>5</td>\n",
              "      <td>Australia</td>\n",
              "      <td>33</td>\n",
              "      <td>3518</td>\n",
              "      <td>107</td>\n",
              "      <td>Aus</td>\n",
              "    </tr>\n",
              "  </tbody>\n",
              "</table>\n",
              "</div>"
            ],
            "text/plain": [
              "   pos          team  matches  points  rating  Abr\n",
              "0    1       England       41    5131     125  Eng\n",
              "1    2         India       49    5819     119  Ind\n",
              "2    3   New Zealand       32    3716     116  New\n",
              "3    4  South Africa       31    3345     108  Sou\n",
              "4    5     Australia       33    3518     107  Aus"
            ]
          },
          "metadata": {
            "tags": []
          },
          "execution_count": 36
        }
      ]
    },
    {
      "cell_type": "code",
      "metadata": {
        "id": "X05Kp41FAB7m",
        "colab_type": "code",
        "colab": {}
      },
      "source": [
        "odi=odi.drop('Abr',axis=1)"
      ],
      "execution_count": 39,
      "outputs": []
    },
    {
      "cell_type": "code",
      "metadata": {
        "id": "QiKwtJFfAHsZ",
        "colab_type": "code",
        "colab": {
          "base_uri": "https://localhost:8080/",
          "height": 195
        },
        "outputId": "6efda0e6-94d8-46e6-e263-5b13395c3ae5"
      },
      "source": [
        "odi.head()"
      ],
      "execution_count": 40,
      "outputs": [
        {
          "output_type": "execute_result",
          "data": {
            "text/html": [
              "<div>\n",
              "<style scoped>\n",
              "    .dataframe tbody tr th:only-of-type {\n",
              "        vertical-align: middle;\n",
              "    }\n",
              "\n",
              "    .dataframe tbody tr th {\n",
              "        vertical-align: top;\n",
              "    }\n",
              "\n",
              "    .dataframe thead th {\n",
              "        text-align: right;\n",
              "    }\n",
              "</style>\n",
              "<table border=\"1\" class=\"dataframe\">\n",
              "  <thead>\n",
              "    <tr style=\"text-align: right;\">\n",
              "      <th></th>\n",
              "      <th>pos</th>\n",
              "      <th>team</th>\n",
              "      <th>matches</th>\n",
              "      <th>points</th>\n",
              "      <th>rating</th>\n",
              "    </tr>\n",
              "  </thead>\n",
              "  <tbody>\n",
              "    <tr>\n",
              "      <th>0</th>\n",
              "      <td>1</td>\n",
              "      <td>England</td>\n",
              "      <td>41</td>\n",
              "      <td>5131</td>\n",
              "      <td>125</td>\n",
              "    </tr>\n",
              "    <tr>\n",
              "      <th>1</th>\n",
              "      <td>2</td>\n",
              "      <td>India</td>\n",
              "      <td>49</td>\n",
              "      <td>5819</td>\n",
              "      <td>119</td>\n",
              "    </tr>\n",
              "    <tr>\n",
              "      <th>2</th>\n",
              "      <td>3</td>\n",
              "      <td>New Zealand</td>\n",
              "      <td>32</td>\n",
              "      <td>3716</td>\n",
              "      <td>116</td>\n",
              "    </tr>\n",
              "    <tr>\n",
              "      <th>3</th>\n",
              "      <td>4</td>\n",
              "      <td>South Africa</td>\n",
              "      <td>31</td>\n",
              "      <td>3345</td>\n",
              "      <td>108</td>\n",
              "    </tr>\n",
              "    <tr>\n",
              "      <th>4</th>\n",
              "      <td>5</td>\n",
              "      <td>Australia</td>\n",
              "      <td>33</td>\n",
              "      <td>3518</td>\n",
              "      <td>107</td>\n",
              "    </tr>\n",
              "  </tbody>\n",
              "</table>\n",
              "</div>"
            ],
            "text/plain": [
              "   pos          team  matches  points  rating\n",
              "0    1       England       41    5131     125\n",
              "1    2         India       49    5819     119\n",
              "2    3   New Zealand       32    3716     116\n",
              "3    4  South Africa       31    3345     108\n",
              "4    5     Australia       33    3518     107"
            ]
          },
          "metadata": {
            "tags": []
          },
          "execution_count": 40
        }
      ]
    },
    {
      "cell_type": "code",
      "metadata": {
        "id": "GC9zY39TANKh",
        "colab_type": "code",
        "colab": {}
      },
      "source": [
        "odi['gender']='Male'\n",
        "wodi['gender']='Female'"
      ],
      "execution_count": 41,
      "outputs": []
    },
    {
      "cell_type": "code",
      "metadata": {
        "id": "nnla7jfrApvF",
        "colab_type": "code",
        "colab": {
          "base_uri": "https://localhost:8080/",
          "height": 195
        },
        "outputId": "72ba135b-5a83-4c42-ceaf-96d23e447b46"
      },
      "source": [
        "odi.head()"
      ],
      "execution_count": 42,
      "outputs": [
        {
          "output_type": "execute_result",
          "data": {
            "text/html": [
              "<div>\n",
              "<style scoped>\n",
              "    .dataframe tbody tr th:only-of-type {\n",
              "        vertical-align: middle;\n",
              "    }\n",
              "\n",
              "    .dataframe tbody tr th {\n",
              "        vertical-align: top;\n",
              "    }\n",
              "\n",
              "    .dataframe thead th {\n",
              "        text-align: right;\n",
              "    }\n",
              "</style>\n",
              "<table border=\"1\" class=\"dataframe\">\n",
              "  <thead>\n",
              "    <tr style=\"text-align: right;\">\n",
              "      <th></th>\n",
              "      <th>pos</th>\n",
              "      <th>team</th>\n",
              "      <th>matches</th>\n",
              "      <th>points</th>\n",
              "      <th>rating</th>\n",
              "      <th>gender</th>\n",
              "    </tr>\n",
              "  </thead>\n",
              "  <tbody>\n",
              "    <tr>\n",
              "      <th>0</th>\n",
              "      <td>1</td>\n",
              "      <td>England</td>\n",
              "      <td>41</td>\n",
              "      <td>5131</td>\n",
              "      <td>125</td>\n",
              "      <td>Male</td>\n",
              "    </tr>\n",
              "    <tr>\n",
              "      <th>1</th>\n",
              "      <td>2</td>\n",
              "      <td>India</td>\n",
              "      <td>49</td>\n",
              "      <td>5819</td>\n",
              "      <td>119</td>\n",
              "      <td>Male</td>\n",
              "    </tr>\n",
              "    <tr>\n",
              "      <th>2</th>\n",
              "      <td>3</td>\n",
              "      <td>New Zealand</td>\n",
              "      <td>32</td>\n",
              "      <td>3716</td>\n",
              "      <td>116</td>\n",
              "      <td>Male</td>\n",
              "    </tr>\n",
              "    <tr>\n",
              "      <th>3</th>\n",
              "      <td>4</td>\n",
              "      <td>South Africa</td>\n",
              "      <td>31</td>\n",
              "      <td>3345</td>\n",
              "      <td>108</td>\n",
              "      <td>Male</td>\n",
              "    </tr>\n",
              "    <tr>\n",
              "      <th>4</th>\n",
              "      <td>5</td>\n",
              "      <td>Australia</td>\n",
              "      <td>33</td>\n",
              "      <td>3518</td>\n",
              "      <td>107</td>\n",
              "      <td>Male</td>\n",
              "    </tr>\n",
              "  </tbody>\n",
              "</table>\n",
              "</div>"
            ],
            "text/plain": [
              "   pos          team  matches  points  rating gender\n",
              "0    1       England       41    5131     125   Male\n",
              "1    2         India       49    5819     119   Male\n",
              "2    3   New Zealand       32    3716     116   Male\n",
              "3    4  South Africa       31    3345     108   Male\n",
              "4    5     Australia       33    3518     107   Male"
            ]
          },
          "metadata": {
            "tags": []
          },
          "execution_count": 42
        }
      ]
    },
    {
      "cell_type": "code",
      "metadata": {
        "id": "TvYeE5VMAq6U",
        "colab_type": "code",
        "colab": {
          "base_uri": "https://localhost:8080/",
          "height": 195
        },
        "outputId": "0a10eaa9-7302-4dbe-ee12-e2fccdf6c289"
      },
      "source": [
        "wodi.head()"
      ],
      "execution_count": 43,
      "outputs": [
        {
          "output_type": "execute_result",
          "data": {
            "text/html": [
              "<div>\n",
              "<style scoped>\n",
              "    .dataframe tbody tr th:only-of-type {\n",
              "        vertical-align: middle;\n",
              "    }\n",
              "\n",
              "    .dataframe tbody tr th {\n",
              "        vertical-align: top;\n",
              "    }\n",
              "\n",
              "    .dataframe thead th {\n",
              "        text-align: right;\n",
              "    }\n",
              "</style>\n",
              "<table border=\"1\" class=\"dataframe\">\n",
              "  <thead>\n",
              "    <tr style=\"text-align: right;\">\n",
              "      <th></th>\n",
              "      <th>pos</th>\n",
              "      <th>team</th>\n",
              "      <th>matches</th>\n",
              "      <th>points</th>\n",
              "      <th>rating</th>\n",
              "      <th>gender</th>\n",
              "    </tr>\n",
              "  </thead>\n",
              "  <tbody>\n",
              "    <tr>\n",
              "      <th>0</th>\n",
              "      <td>1</td>\n",
              "      <td>Australia Women</td>\n",
              "      <td>26</td>\n",
              "      <td>3945</td>\n",
              "      <td>152</td>\n",
              "      <td>Female</td>\n",
              "    </tr>\n",
              "    <tr>\n",
              "      <th>1</th>\n",
              "      <td>2</td>\n",
              "      <td>India Women</td>\n",
              "      <td>30</td>\n",
              "      <td>3747</td>\n",
              "      <td>125</td>\n",
              "      <td>Female</td>\n",
              "    </tr>\n",
              "    <tr>\n",
              "      <th>2</th>\n",
              "      <td>3</td>\n",
              "      <td>England Women</td>\n",
              "      <td>29</td>\n",
              "      <td>3568</td>\n",
              "      <td>123</td>\n",
              "      <td>Female</td>\n",
              "    </tr>\n",
              "    <tr>\n",
              "      <th>3</th>\n",
              "      <td>4</td>\n",
              "      <td>New Zealand Women</td>\n",
              "      <td>26</td>\n",
              "      <td>2675</td>\n",
              "      <td>103</td>\n",
              "      <td>Female</td>\n",
              "    </tr>\n",
              "    <tr>\n",
              "      <th>4</th>\n",
              "      <td>5</td>\n",
              "      <td>South Africa Women</td>\n",
              "      <td>36</td>\n",
              "      <td>3626</td>\n",
              "      <td>101</td>\n",
              "      <td>Female</td>\n",
              "    </tr>\n",
              "  </tbody>\n",
              "</table>\n",
              "</div>"
            ],
            "text/plain": [
              "   pos                team  matches  points  rating  gender\n",
              "0    1     Australia Women       26    3945     152  Female\n",
              "1    2         India Women       30    3747     125  Female\n",
              "2    3       England Women       29    3568     123  Female\n",
              "3    4   New Zealand Women       26    2675     103  Female\n",
              "4    5  South Africa Women       36    3626     101  Female"
            ]
          },
          "metadata": {
            "tags": []
          },
          "execution_count": 43
        }
      ]
    },
    {
      "cell_type": "code",
      "metadata": {
        "id": "T2gFnx13As2i",
        "colab_type": "code",
        "colab": {
          "base_uri": "https://localhost:8080/",
          "height": 935
        },
        "outputId": "3362f49b-2c78-48d1-bc10-25cac7d9faac"
      },
      "source": [
        "comb = pd.concat([odi,wodi],ignore_index=True)\n",
        "comb['team']=comb['team'].apply(trim)\n",
        "comb"
      ],
      "execution_count": 46,
      "outputs": [
        {
          "output_type": "execute_result",
          "data": {
            "text/html": [
              "<div>\n",
              "<style scoped>\n",
              "    .dataframe tbody tr th:only-of-type {\n",
              "        vertical-align: middle;\n",
              "    }\n",
              "\n",
              "    .dataframe tbody tr th {\n",
              "        vertical-align: top;\n",
              "    }\n",
              "\n",
              "    .dataframe thead th {\n",
              "        text-align: right;\n",
              "    }\n",
              "</style>\n",
              "<table border=\"1\" class=\"dataframe\">\n",
              "  <thead>\n",
              "    <tr style=\"text-align: right;\">\n",
              "      <th></th>\n",
              "      <th>pos</th>\n",
              "      <th>team</th>\n",
              "      <th>matches</th>\n",
              "      <th>points</th>\n",
              "      <th>rating</th>\n",
              "      <th>gender</th>\n",
              "    </tr>\n",
              "  </thead>\n",
              "  <tbody>\n",
              "    <tr>\n",
              "      <th>0</th>\n",
              "      <td>1</td>\n",
              "      <td>Eng</td>\n",
              "      <td>41</td>\n",
              "      <td>5131</td>\n",
              "      <td>125</td>\n",
              "      <td>Male</td>\n",
              "    </tr>\n",
              "    <tr>\n",
              "      <th>1</th>\n",
              "      <td>2</td>\n",
              "      <td>Ind</td>\n",
              "      <td>49</td>\n",
              "      <td>5819</td>\n",
              "      <td>119</td>\n",
              "      <td>Male</td>\n",
              "    </tr>\n",
              "    <tr>\n",
              "      <th>2</th>\n",
              "      <td>3</td>\n",
              "      <td>New</td>\n",
              "      <td>32</td>\n",
              "      <td>3716</td>\n",
              "      <td>116</td>\n",
              "      <td>Male</td>\n",
              "    </tr>\n",
              "    <tr>\n",
              "      <th>3</th>\n",
              "      <td>4</td>\n",
              "      <td>Sou</td>\n",
              "      <td>31</td>\n",
              "      <td>3345</td>\n",
              "      <td>108</td>\n",
              "      <td>Male</td>\n",
              "    </tr>\n",
              "    <tr>\n",
              "      <th>4</th>\n",
              "      <td>5</td>\n",
              "      <td>Aus</td>\n",
              "      <td>33</td>\n",
              "      <td>3518</td>\n",
              "      <td>107</td>\n",
              "      <td>Male</td>\n",
              "    </tr>\n",
              "    <tr>\n",
              "      <th>5</th>\n",
              "      <td>6</td>\n",
              "      <td>Pak</td>\n",
              "      <td>32</td>\n",
              "      <td>3254</td>\n",
              "      <td>102</td>\n",
              "      <td>Male</td>\n",
              "    </tr>\n",
              "    <tr>\n",
              "      <th>6</th>\n",
              "      <td>7</td>\n",
              "      <td>Ban</td>\n",
              "      <td>34</td>\n",
              "      <td>2989</td>\n",
              "      <td>88</td>\n",
              "      <td>Male</td>\n",
              "    </tr>\n",
              "    <tr>\n",
              "      <th>7</th>\n",
              "      <td>8</td>\n",
              "      <td>Sri</td>\n",
              "      <td>39</td>\n",
              "      <td>3297</td>\n",
              "      <td>85</td>\n",
              "      <td>Male</td>\n",
              "    </tr>\n",
              "    <tr>\n",
              "      <th>8</th>\n",
              "      <td>9</td>\n",
              "      <td>Wes</td>\n",
              "      <td>43</td>\n",
              "      <td>3285</td>\n",
              "      <td>76</td>\n",
              "      <td>Male</td>\n",
              "    </tr>\n",
              "    <tr>\n",
              "      <th>9</th>\n",
              "      <td>10</td>\n",
              "      <td>Afg</td>\n",
              "      <td>28</td>\n",
              "      <td>1549</td>\n",
              "      <td>55</td>\n",
              "      <td>Male</td>\n",
              "    </tr>\n",
              "    <tr>\n",
              "      <th>10</th>\n",
              "      <td>11</td>\n",
              "      <td>Ire</td>\n",
              "      <td>24</td>\n",
              "      <td>1256</td>\n",
              "      <td>52</td>\n",
              "      <td>Male</td>\n",
              "    </tr>\n",
              "    <tr>\n",
              "      <th>11</th>\n",
              "      <td>12</td>\n",
              "      <td>Net</td>\n",
              "      <td>5</td>\n",
              "      <td>222</td>\n",
              "      <td>44</td>\n",
              "      <td>Male</td>\n",
              "    </tr>\n",
              "    <tr>\n",
              "      <th>12</th>\n",
              "      <td>13</td>\n",
              "      <td>Oma</td>\n",
              "      <td>12</td>\n",
              "      <td>479</td>\n",
              "      <td>40</td>\n",
              "      <td>Male</td>\n",
              "    </tr>\n",
              "    <tr>\n",
              "      <th>13</th>\n",
              "      <td>14</td>\n",
              "      <td>Zim</td>\n",
              "      <td>24</td>\n",
              "      <td>935</td>\n",
              "      <td>39</td>\n",
              "      <td>Male</td>\n",
              "    </tr>\n",
              "    <tr>\n",
              "      <th>14</th>\n",
              "      <td>15</td>\n",
              "      <td>Sco</td>\n",
              "      <td>16</td>\n",
              "      <td>419</td>\n",
              "      <td>26</td>\n",
              "      <td>Male</td>\n",
              "    </tr>\n",
              "    <tr>\n",
              "      <th>15</th>\n",
              "      <td>16</td>\n",
              "      <td>Nep</td>\n",
              "      <td>9</td>\n",
              "      <td>161</td>\n",
              "      <td>18</td>\n",
              "      <td>Male</td>\n",
              "    </tr>\n",
              "    <tr>\n",
              "      <th>16</th>\n",
              "      <td>17</td>\n",
              "      <td>UAE</td>\n",
              "      <td>15</td>\n",
              "      <td>259</td>\n",
              "      <td>17</td>\n",
              "      <td>Male</td>\n",
              "    </tr>\n",
              "    <tr>\n",
              "      <th>17</th>\n",
              "      <td>18</td>\n",
              "      <td>Nam</td>\n",
              "      <td>9</td>\n",
              "      <td>152</td>\n",
              "      <td>17</td>\n",
              "      <td>Male</td>\n",
              "    </tr>\n",
              "    <tr>\n",
              "      <th>18</th>\n",
              "      <td>19</td>\n",
              "      <td>USA</td>\n",
              "      <td>14</td>\n",
              "      <td>185</td>\n",
              "      <td>13</td>\n",
              "      <td>Male</td>\n",
              "    </tr>\n",
              "    <tr>\n",
              "      <th>19</th>\n",
              "      <td>20</td>\n",
              "      <td>PNG</td>\n",
              "      <td>14</td>\n",
              "      <td>0</td>\n",
              "      <td>0</td>\n",
              "      <td>Male</td>\n",
              "    </tr>\n",
              "    <tr>\n",
              "      <th>20</th>\n",
              "      <td>1</td>\n",
              "      <td>Aus</td>\n",
              "      <td>26</td>\n",
              "      <td>3945</td>\n",
              "      <td>152</td>\n",
              "      <td>Female</td>\n",
              "    </tr>\n",
              "    <tr>\n",
              "      <th>21</th>\n",
              "      <td>2</td>\n",
              "      <td>Ind</td>\n",
              "      <td>30</td>\n",
              "      <td>3747</td>\n",
              "      <td>125</td>\n",
              "      <td>Female</td>\n",
              "    </tr>\n",
              "    <tr>\n",
              "      <th>22</th>\n",
              "      <td>3</td>\n",
              "      <td>Eng</td>\n",
              "      <td>29</td>\n",
              "      <td>3568</td>\n",
              "      <td>123</td>\n",
              "      <td>Female</td>\n",
              "    </tr>\n",
              "    <tr>\n",
              "      <th>23</th>\n",
              "      <td>4</td>\n",
              "      <td>New</td>\n",
              "      <td>26</td>\n",
              "      <td>2675</td>\n",
              "      <td>103</td>\n",
              "      <td>Female</td>\n",
              "    </tr>\n",
              "    <tr>\n",
              "      <th>24</th>\n",
              "      <td>5</td>\n",
              "      <td>Sou</td>\n",
              "      <td>36</td>\n",
              "      <td>3626</td>\n",
              "      <td>101</td>\n",
              "      <td>Female</td>\n",
              "    </tr>\n",
              "    <tr>\n",
              "      <th>25</th>\n",
              "      <td>6</td>\n",
              "      <td>Wes</td>\n",
              "      <td>24</td>\n",
              "      <td>1979</td>\n",
              "      <td>82</td>\n",
              "      <td>Female</td>\n",
              "    </tr>\n",
              "    <tr>\n",
              "      <th>26</th>\n",
              "      <td>7</td>\n",
              "      <td>Pak</td>\n",
              "      <td>25</td>\n",
              "      <td>1835</td>\n",
              "      <td>73</td>\n",
              "      <td>Female</td>\n",
              "    </tr>\n",
              "    <tr>\n",
              "      <th>27</th>\n",
              "      <td>8</td>\n",
              "      <td>Sri</td>\n",
              "      <td>22</td>\n",
              "      <td>1208</td>\n",
              "      <td>55</td>\n",
              "      <td>Female</td>\n",
              "    </tr>\n",
              "    <tr>\n",
              "      <th>28</th>\n",
              "      <td>9</td>\n",
              "      <td>Ban</td>\n",
              "      <td>10</td>\n",
              "      <td>542</td>\n",
              "      <td>54</td>\n",
              "      <td>Female</td>\n",
              "    </tr>\n",
              "    <tr>\n",
              "      <th>29</th>\n",
              "      <td>10</td>\n",
              "      <td>Ire</td>\n",
              "      <td>6</td>\n",
              "      <td>110</td>\n",
              "      <td>18</td>\n",
              "      <td>Female</td>\n",
              "    </tr>\n",
              "  </tbody>\n",
              "</table>\n",
              "</div>"
            ],
            "text/plain": [
              "    pos team  matches  points  rating  gender\n",
              "0     1  Eng       41    5131     125    Male\n",
              "1     2  Ind       49    5819     119    Male\n",
              "2     3  New       32    3716     116    Male\n",
              "3     4  Sou       31    3345     108    Male\n",
              "4     5  Aus       33    3518     107    Male\n",
              "5     6  Pak       32    3254     102    Male\n",
              "6     7  Ban       34    2989      88    Male\n",
              "7     8  Sri       39    3297      85    Male\n",
              "8     9  Wes       43    3285      76    Male\n",
              "9    10  Afg       28    1549      55    Male\n",
              "10   11  Ire       24    1256      52    Male\n",
              "11   12  Net        5     222      44    Male\n",
              "12   13  Oma       12     479      40    Male\n",
              "13   14  Zim       24     935      39    Male\n",
              "14   15  Sco       16     419      26    Male\n",
              "15   16  Nep        9     161      18    Male\n",
              "16   17  UAE       15     259      17    Male\n",
              "17   18  Nam        9     152      17    Male\n",
              "18   19  USA       14     185      13    Male\n",
              "19   20  PNG       14       0       0    Male\n",
              "20    1  Aus       26    3945     152  Female\n",
              "21    2  Ind       30    3747     125  Female\n",
              "22    3  Eng       29    3568     123  Female\n",
              "23    4  New       26    2675     103  Female\n",
              "24    5  Sou       36    3626     101  Female\n",
              "25    6  Wes       24    1979      82  Female\n",
              "26    7  Pak       25    1835      73  Female\n",
              "27    8  Sri       22    1208      55  Female\n",
              "28    9  Ban       10     542      54  Female\n",
              "29   10  Ire        6     110      18  Female"
            ]
          },
          "metadata": {
            "tags": []
          },
          "execution_count": 46
        }
      ]
    },
    {
      "cell_type": "code",
      "metadata": {
        "id": "0IYW4XdQBLE-",
        "colab_type": "code",
        "colab": {
          "base_uri": "https://localhost:8080/",
          "height": 297
        },
        "outputId": "2dbbda17-9f04-4821-96cc-19b9d3212e07"
      },
      "source": [
        "plt.figure(figsize=(12,4))\n",
        "x=sns.barplot('team','matches',hue='gender',data=comb)\n",
        "x.set_xticklabels(x.get_xticklabels(),rotation=40,ha='right')\n",
        "plt.tight_layout()\n",
        "plt.show()"
      ],
      "execution_count": 50,
      "outputs": [
        {
          "output_type": "display_data",
          "data": {
            "image/png": "[encoded data removed]",
            "text/plain": [
              "<Figure size 864x288 with 1 Axes>"
            ]
          },
          "metadata": {
            "tags": [],
            "needs_background": "light"
          }
        }
      ]
    },
    {
      "cell_type": "code",
      "metadata": {
        "id": "KtCfL8KpBueb",
        "colab_type": "code",
        "colab": {
          "base_uri": "https://localhost:8080/",
          "height": 297
        },
        "outputId": "6191611d-3a8e-46ba-d987-202d127cd1ef"
      },
      "source": [
        "plt.figure(figsize=(12,4))\n",
        "x=sns.barplot('team','points',hue='gender',data=comb)\n",
        "x.set_xticklabels(x.get_xticklabels(),rotation=40,ha='right')\n",
        "plt.tight_layout()\n",
        "plt.show()"
      ],
      "execution_count": 49,
      "outputs": [
        {
          "output_type": "display_data",
          "data": {
            "image/png": "[encoded data removed]",
            "text/plain": [
              "<Figure size 864x288 with 1 Axes>"
            ]
          },
          "metadata": {
            "tags": [],
            "needs_background": "light"
          }
        }
      ]
    },
    {
      "cell_type": "code",
      "metadata": {
        "id": "WFQuikBxCaKg",
        "colab_type": "code",
        "colab": {
          "base_uri": "https://localhost:8080/",
          "height": 297
        },
        "outputId": "568e8725-62a0-40b4-f9ab-6cd2d23addf9"
      },
      "source": [
        "x=sns.scatterplot('matches','points',hue='gender',data=comb)\n",
        "plt.tight_layout()\n",
        "plt.show()"
      ],
      "execution_count": 55,
      "outputs": [
        {
          "output_type": "display_data",
          "data": {
            "image/png": "[encoded data removed]",
            "text/plain": [
              "<Figure size 432x288 with 1 Axes>"
            ]
          },
          "metadata": {
            "tags": [],
            "needs_background": "light"
          }
        }
      ]
    },
    {
      "cell_type": "code",
      "metadata": {
        "id": "9AAiNg9fDgg6",
        "colab_type": "code",
        "colab": {}
      },
      "source": [
        ""
      ],
      "execution_count": null,
      "outputs": []
    }
  ]
}